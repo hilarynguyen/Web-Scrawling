{
 "cells": [
  {
   "cell_type": "code",
   "execution_count": 2,
   "id": "91a5e32e-5aa5-489e-af3c-96ff3003422f",
   "metadata": {},
   "outputs": [],
   "source": [
    "from urllib.request import urlopen\n",
    "from bs4 import BeautifulSoup"
   ]
  },
  {
   "cell_type": "code",
   "execution_count": 3,
   "id": "442bd957-f08b-493a-a76a-8568ec4d368b",
   "metadata": {},
   "outputs": [
    {
     "name": "stdout",
     "output_type": "stream",
     "text": [
      "<h1>An Interesting Title</h1>\n"
     ]
    }
   ],
   "source": [
    "html = urlopen('http://www.pythonscraping.com/pages/page1.html')\n",
    "bs = BeautifulSoup(html.read(), 'html.parser')\n",
    "#html.read() to get the HTML content of the page\n",
    "#html.parser is a parser that is included with Python 3 and requires no extra installations to use. \n",
    "print(bs.h1)      "
   ]
  },
  {
   "cell_type": "code",
   "execution_count": 4,
   "id": "a932ada1-e5a0-4ad3-9e34-0993509d8e0c",
   "metadata": {},
   "outputs": [
    {
     "data": {
      "text/plain": [
       "<h1>An Interesting Title</h1>"
      ]
     },
     "execution_count": 4,
     "metadata": {},
     "output_type": "execute_result"
    }
   ],
   "source": [
    "bs.h1"
   ]
  },
  {
   "cell_type": "code",
   "execution_count": 5,
   "id": "d0fb0cf9-e829-4b90-aa76-9d45f17e1b97",
   "metadata": {},
   "outputs": [
    {
     "data": {
      "text/plain": [
       "<h1>An Interesting Title</h1>"
      ]
     },
     "execution_count": 5,
     "metadata": {},
     "output_type": "execute_result"
    }
   ],
   "source": [
    "bs.html.body.h1"
   ]
  },
  {
   "cell_type": "code",
   "execution_count": 6,
   "id": "5cb01b9d-0588-4b67-9c7c-714c52824464",
   "metadata": {},
   "outputs": [
    {
     "data": {
      "text/plain": [
       "<h1>An Interesting Title</h1>"
      ]
     },
     "execution_count": 6,
     "metadata": {},
     "output_type": "execute_result"
    }
   ],
   "source": [
    "bs.body.h1"
   ]
  },
  {
   "cell_type": "code",
   "execution_count": 7,
   "id": "ef702177-e495-486f-a0f8-1ab06cc081ef",
   "metadata": {},
   "outputs": [
    {
     "data": {
      "text/plain": [
       "<h1>An Interesting Title</h1>"
      ]
     },
     "execution_count": 7,
     "metadata": {},
     "output_type": "execute_result"
    }
   ],
   "source": [
    "bs.html.h1"
   ]
  },
  {
   "cell_type": "code",
   "execution_count": 8,
   "id": "8c59010d-58be-4a36-82a6-24939416c1b7",
   "metadata": {},
   "outputs": [],
   "source": [
    "bs = BeautifulSoup(html.read(), 'lxml')\n",
    "#lxml is a popular parser,"
   ]
  },
  {
   "cell_type": "markdown",
   "id": "64186aa6-3f15-4c2c-851a-d12d6cf8e8d2",
   "metadata": {},
   "source": [
    "#### Connecting Reliably and Handling Exceptions"
   ]
  },
  {
   "cell_type": "code",
   "execution_count": 9,
   "id": "3ef0c244-a826-4972-ac77-ae992c671a2b",
   "metadata": {},
   "outputs": [],
   "source": [
    "html = urlopen('http://www.pythonscraping.com/pages/page1.html')"
   ]
  },
  {
   "cell_type": "markdown",
   "id": "9a15735a-d111-4cf0-8805-67252a8d7396",
   "metadata": {},
   "source": [
    "##### Two main things can go wrong in this line above:\n",
    "- The page is not found on the server (or there was an error in retrieving it)\n",
    "- The server is not found"
   ]
  },
  {
   "cell_type": "code",
   "execution_count": 10,
   "id": "18ed0c36-0f9a-4d45-9697-d1e665ff1145",
   "metadata": {},
   "outputs": [],
   "source": [
    "from urllib.error import HTTPError"
   ]
  },
  {
   "cell_type": "code",
   "execution_count": 13,
   "id": "069f6731-dd9b-4db9-a959-ca6864dca993",
   "metadata": {},
   "outputs": [],
   "source": [
    "try:\n",
    "    html = urlopen('http://www.pythonscraping.com/pages/page1.html')\n",
    "except HTTPError as e:\n",
    "    #return null, break, or do some other \"Plan B\"\n",
    "    pass\n",
    "except URLError as e:\n",
    "    print('The server could not be found')\n",
    "else:\n",
    "    pass\n",
    "    # program continues. Note: If you return or break in the exception catch, you do not need to use the \"else\" statement"
   ]
  },
  {
   "cell_type": "code",
   "execution_count": null,
   "id": "5122fe12-8422-4193-a2c9-136d5fde2a83",
   "metadata": {},
   "outputs": [],
   "source": [
    "try: \n",
    "    badContent = bs.nonExistingTag.anotherTag\n",
    "except AttributeError as e:\n",
    "    print('Tag was not found')\n",
    "else:\n",
    "    if badContent = None:\n",
    "        print('Tag was not found')\n",
    "    else:\n",
    "        print(badContent)"
   ]
  },
  {
   "cell_type": "code",
   "execution_count": 14,
   "id": "4e9767f6-088c-455f-887f-f6415cdb146f",
   "metadata": {},
   "outputs": [
    {
     "name": "stdout",
     "output_type": "stream",
     "text": [
      "<h1>An Interesting Title</h1>\n"
     ]
    }
   ],
   "source": [
    "def getTitle(url):\n",
    "    try: \n",
    "        html = urlopen(url)\n",
    "    except HTTPError as e:\n",
    "        return None\n",
    "    try:\n",
    "        bs = BeautifulSoup(html.read(), \"html.parser\")\n",
    "        title = bs.body.h1\n",
    "    except AttributeError as e:\n",
    "        return None\n",
    "    return title\n",
    "title = getTitle('http://www.pythonscraping.com/pages/page1.html')\n",
    "if title == None:\n",
    "    print('Title could not be found')\n",
    "else:\n",
    "    print(title) "
   ]
  },
  {
   "cell_type": "markdown",
   "id": "e888e32b-9ad8-486a-b68e-84b070a3067d",
   "metadata": {},
   "source": [
    "### Chapter 2: ADVANCED HTML PARSING\n",
    "In this section, we'll discuss searching for tags by attributes, working with lists of tags and navigating parse trees"
   ]
  },
  {
   "cell_type": "markdown",
   "id": "74741c65-702e-4b6b-84a9-cd04019eb34e",
   "metadata": {},
   "source": [
    "### 2.1.Find() and Find_all() with BeautifulSoup"
   ]
  },
  {
   "cell_type": "code",
   "execution_count": 15,
   "id": "0c116698-1162-4172-9888-45bff945eec9",
   "metadata": {},
   "outputs": [],
   "source": [
    "html = urlopen(\"https://www.pythonscraping.com/pages/warandpeace.html\")\n",
    "bs = BeautifulSoup(html.read(), \"html.parser\")"
   ]
  },
  {
   "cell_type": "code",
   "execution_count": 16,
   "id": "f5cf5c2a-772b-4307-8dc3-a22445e8f830",
   "metadata": {},
   "outputs": [
    {
     "name": "stdout",
     "output_type": "stream",
     "text": [
      "Anna\n",
      "Pavlovna Scherer\n",
      "Empress Marya\n",
      "Fedorovna\n",
      "Prince Vasili Kuragin\n",
      "Anna Pavlovna\n",
      "St. Petersburg\n",
      "the prince\n",
      "Anna Pavlovna\n",
      "Anna Pavlovna\n",
      "the prince\n",
      "the prince\n",
      "the prince\n",
      "Prince Vasili\n",
      "Anna Pavlovna\n",
      "Anna Pavlovna\n",
      "the prince\n",
      "Wintzingerode\n",
      "King of Prussia\n",
      "le Vicomte de Mortemart\n",
      "Montmorencys\n",
      "Rohans\n",
      "Abbe Morio\n",
      "the Emperor\n",
      "the prince\n",
      "Prince Vasili\n",
      "Dowager Empress Marya Fedorovna\n",
      "the baron\n",
      "Anna Pavlovna\n",
      "the Empress\n",
      "the Empress\n",
      "Anna Pavlovna's\n",
      "Her Majesty\n",
      "Baron\n",
      "Funke\n",
      "The prince\n",
      "Anna\n",
      "Pavlovna\n",
      "the Empress\n",
      "The prince\n",
      "Anatole\n",
      "the prince\n",
      "The prince\n",
      "Anna\n",
      "Pavlovna\n",
      "Anna Pavlovna\n"
     ]
    }
   ],
   "source": [
    "nameList = bs.findAll('span', {'class':'green'})\n",
    "for name in nameList:\n",
    "    print(name.get_text())\n",
    "#tag = span, attribute class"
   ]
  },
  {
   "cell_type": "markdown",
   "id": "dce84f39-6234-4bb0-be31-1e76ee45a663",
   "metadata": {},
   "source": [
    "find_all(tag, attributes, recursive, text, limit. keywords) <br>\n",
    "find(tag, attributes, recursive, text, keywords)"
   ]
  },
  {
   "cell_type": "code",
   "execution_count": 22,
   "id": "15c42664-87d9-4786-8cf8-b3809689cdc5",
   "metadata": {},
   "outputs": [
    {
     "name": "stdout",
     "output_type": "stream",
     "text": [
      "7\n"
     ]
    }
   ],
   "source": [
    "nameList = bs.find_all(text = 'the prince')\n",
    "print(len(nameList))\n",
    "#Text argument: matches based on the text content of the tags, rather than properties of the tags themselves"
   ]
  },
  {
   "cell_type": "code",
   "execution_count": 23,
   "id": "3b8f2734-e24e-4f5e-a239-56a383a6a202",
   "metadata": {},
   "outputs": [
    {
     "data": {
      "text/plain": [
       "['the prince',\n",
       " 'the prince',\n",
       " 'the prince',\n",
       " 'the prince',\n",
       " 'the prince',\n",
       " 'the prince',\n",
       " 'the prince']"
      ]
     },
     "execution_count": 23,
     "metadata": {},
     "output_type": "execute_result"
    }
   ],
   "source": [
    "nameList"
   ]
  },
  {
   "cell_type": "markdown",
   "id": "a9a8f9ed-1aa1-4e89-81bf-13ea780a4d21",
   "metadata": {},
   "source": [
    "The limit argument, is used only in the find_all method, find is equivalent to the same find_all call, with a limit of 1.<br>\n",
    "The keyword argument allows you to select tags that contain a particular attribute or a set of attributes. "
   ]
  },
  {
   "cell_type": "code",
   "execution_count": 24,
   "id": "9ed00cfd-1259-4420-afbd-9e831e00e459",
   "metadata": {},
   "outputs": [],
   "source": [
    "title = bs.find_all(id=\"title\", class_ = 'text')\n",
    "#This returns the first tag with the word \"text\" in the class_ attribute and \"title\" in the id attribute"
   ]
  },
  {
   "cell_type": "code",
   "execution_count": 25,
   "id": "b4b3b13f-f936-4a07-a159-b861a85f91c1",
   "metadata": {},
   "outputs": [
    {
     "data": {
      "text/plain": [
       "[]"
      ]
     },
     "execution_count": 25,
     "metadata": {},
     "output_type": "execute_result"
    }
   ],
   "source": []
  },
  {
   "cell_type": "code",
   "execution_count": 30,
   "id": "fa4b6f93-cae1-457d-bf77-8fdd4cf01fd1",
   "metadata": {},
   "outputs": [
    {
     "data": {
      "text/plain": [
       "[]"
      ]
     },
     "execution_count": 30,
     "metadata": {},
     "output_type": "execute_result"
    }
   ],
   "source": [
    "bs.findAll('', {'class':'green'})"
   ]
  },
  {
   "cell_type": "markdown",
   "id": "6549756c-a6b7-4816-85a5-50b00adf7f91",
   "metadata": {},
   "source": [
    "### Other BeautifulSoup Objects\n",
    "- BeautifulSoup objects: bs <br>\n",
    "- Tag objects: retrieved in lists or retrieved individually by calling find and find_all\n",
    "bs.div.h1 <br>\n",
    "- NavigableStringobjects: use to represent text within tags, rather than the tags themselves<br>\n",
    "- Comment object: use to find HTML comments in comment tags"
   ]
  },
  {
   "cell_type": "markdown",
   "id": "5bcfd772-922e-48e6-bc31-1121020ab277",
   "metadata": {},
   "source": [
    "### 2.2 Navigating Trees\n",
    "Children and descendants: \n",
    "- Children are always exactly one tag below a parent, whereas descendants can be at any level in the tree \n",
    "- All children are descendants, but not all descendants are children\n",
    "\n",
    "Example:\n",
    "- bs.body.h1: select the first h1 tag that is a descendant of the body tag. It will not find tags located outside the body\n",
    "- bs.div.find_all('img) will find the first div tag in the document, and then retrieve a list of all img tags that are descendants of that divtag (Quên check là bs.div là trả về first tag hay nhiều tag)"
   ]
  },
  {
   "cell_type": "markdown",
   "id": "e51ee017-9c70-4631-b726-a6d5ff2bdb0d",
   "metadata": {},
   "source": [
    "If you want to find only descendants that are children, you can use tag:"
   ]
  },
  {
   "cell_type": "code",
   "execution_count": 32,
   "id": "c9373cc1-7d71-4874-b9b5-d18ddc9e14f8",
   "metadata": {},
   "outputs": [
    {
     "name": "stdout",
     "output_type": "stream",
     "text": [
      "\n",
      "\n",
      "<tr><th>\n",
      "Item Title\n",
      "</th><th>\n",
      "Description\n",
      "</th><th>\n",
      "Cost\n",
      "</th><th>\n",
      "Image\n",
      "</th></tr>\n",
      "\n",
      "\n",
      "<tr class=\"gift\" id=\"gift1\"><td>\n",
      "Vegetable Basket\n",
      "</td><td>\n",
      "This vegetable basket is the perfect gift for your health conscious (or overweight) friends!\n",
      "<span class=\"excitingNote\">Now with super-colorful bell peppers!</span>\n",
      "</td><td>\n",
      "$15.00\n",
      "</td><td>\n",
      "<img src=\"../img/gifts/img1.jpg\"/>\n",
      "</td></tr>\n",
      "\n",
      "\n",
      "<tr class=\"gift\" id=\"gift2\"><td>\n",
      "Russian Nesting Dolls\n",
      "</td><td>\n",
      "Hand-painted by trained monkeys, these exquisite dolls are priceless! And by \"priceless,\" we mean \"extremely expensive\"! <span class=\"excitingNote\">8 entire dolls per set! Octuple the presents!</span>\n",
      "</td><td>\n",
      "$10,000.52\n",
      "</td><td>\n",
      "<img src=\"../img/gifts/img2.jpg\"/>\n",
      "</td></tr>\n",
      "\n",
      "\n",
      "<tr class=\"gift\" id=\"gift3\"><td>\n",
      "Fish Painting\n",
      "</td><td>\n",
      "If something seems fishy about this painting, it's because it's a fish! <span class=\"excitingNote\">Also hand-painted by trained monkeys!</span>\n",
      "</td><td>\n",
      "$10,005.00\n",
      "</td><td>\n",
      "<img src=\"../img/gifts/img3.jpg\"/>\n",
      "</td></tr>\n",
      "\n",
      "\n",
      "<tr class=\"gift\" id=\"gift4\"><td>\n",
      "Dead Parrot\n",
      "</td><td>\n",
      "This is an ex-parrot! <span class=\"excitingNote\">Or maybe he's only resting?</span>\n",
      "</td><td>\n",
      "$0.50\n",
      "</td><td>\n",
      "<img src=\"../img/gifts/img4.jpg\"/>\n",
      "</td></tr>\n",
      "\n",
      "\n",
      "<tr class=\"gift\" id=\"gift5\"><td>\n",
      "Mystery Box\n",
      "</td><td>\n",
      "If you love suprises, this mystery box is for you! Do not place on light-colored surfaces. May cause oil staining. <span class=\"excitingNote\">Keep your friends guessing!</span>\n",
      "</td><td>\n",
      "$1.50\n",
      "</td><td>\n",
      "<img src=\"../img/gifts/img6.jpg\"/>\n",
      "</td></tr>\n",
      "\n",
      "\n"
     ]
    }
   ],
   "source": [
    "html = urlopen(\"https://www.pythonscraping.com/pages/page3.html\")\n",
    "bs = BeautifulSoup(html, \"html.parser\")\n",
    "for child in bs.find('table', {'id':'giftList'}).children:\n",
    "    print(child) \n",
    "#table: tag (in this case the code prints \n",
    "#id : attribute \n",
    "##Check lại chỗ find table là lấy giá trị gì"
   ]
  },
  {
   "cell_type": "code",
   "execution_count": 33,
   "id": "9c9d48cf-d7ee-4022-8b76-5e095f865684",
   "metadata": {},
   "outputs": [
    {
     "name": "stdout",
     "output_type": "stream",
     "text": [
      "\n",
      "\n",
      "<tr class=\"gift\" id=\"gift1\"><td>\n",
      "Vegetable Basket\n",
      "</td><td>\n",
      "This vegetable basket is the perfect gift for your health conscious (or overweight) friends!\n",
      "<span class=\"excitingNote\">Now with super-colorful bell peppers!</span>\n",
      "</td><td>\n",
      "$15.00\n",
      "</td><td>\n",
      "<img src=\"../img/gifts/img1.jpg\"/>\n",
      "</td></tr>\n",
      "\n",
      "\n",
      "<tr class=\"gift\" id=\"gift2\"><td>\n",
      "Russian Nesting Dolls\n",
      "</td><td>\n",
      "Hand-painted by trained monkeys, these exquisite dolls are priceless! And by \"priceless,\" we mean \"extremely expensive\"! <span class=\"excitingNote\">8 entire dolls per set! Octuple the presents!</span>\n",
      "</td><td>\n",
      "$10,000.52\n",
      "</td><td>\n",
      "<img src=\"../img/gifts/img2.jpg\"/>\n",
      "</td></tr>\n",
      "\n",
      "\n",
      "<tr class=\"gift\" id=\"gift3\"><td>\n",
      "Fish Painting\n",
      "</td><td>\n",
      "If something seems fishy about this painting, it's because it's a fish! <span class=\"excitingNote\">Also hand-painted by trained monkeys!</span>\n",
      "</td><td>\n",
      "$10,005.00\n",
      "</td><td>\n",
      "<img src=\"../img/gifts/img3.jpg\"/>\n",
      "</td></tr>\n",
      "\n",
      "\n",
      "<tr class=\"gift\" id=\"gift4\"><td>\n",
      "Dead Parrot\n",
      "</td><td>\n",
      "This is an ex-parrot! <span class=\"excitingNote\">Or maybe he's only resting?</span>\n",
      "</td><td>\n",
      "$0.50\n",
      "</td><td>\n",
      "<img src=\"../img/gifts/img4.jpg\"/>\n",
      "</td></tr>\n",
      "\n",
      "\n",
      "<tr class=\"gift\" id=\"gift5\"><td>\n",
      "Mystery Box\n",
      "</td><td>\n",
      "If you love suprises, this mystery box is for you! Do not place on light-colored surfaces. May cause oil staining. <span class=\"excitingNote\">Keep your friends guessing!</span>\n",
      "</td><td>\n",
      "$1.50\n",
      "</td><td>\n",
      "<img src=\"../img/gifts/img6.jpg\"/>\n",
      "</td></tr>\n",
      "\n",
      "\n"
     ]
    }
   ],
   "source": [
    "for sibling in bs.find('table',{'id':'giftList'}).tr.next_siblings:\n",
    "    print(sibling) "
   ]
  },
  {
   "cell_type": "markdown",
   "id": "7543a69f-0551-4034-befa-819688fd70eb",
   "metadata": {},
   "source": [
    "(Make Selection Specific): cụ thể hóa, sử dụng specific as posible when making tag selection bởi vì page layouts change all the time, bây h có thể là first on the page nhưng someday có thể là second or third"
   ]
  },
  {
   "cell_type": "code",
   "execution_count": 34,
   "id": "d9116178-46f4-45ed-bff0-7126e5edeae7",
   "metadata": {},
   "outputs": [],
   "source": [
    "#next_sibling and previous_sibling return a single tag rather than a list of them"
   ]
  },
  {
   "cell_type": "markdown",
   "id": "ee7ff445-8104-4e8a-86fe-d8e2fab23fe8",
   "metadata": {},
   "source": [
    "#### Dealing with parents"
   ]
  },
  {
   "cell_type": "code",
   "execution_count": 36,
   "id": "bc12a85a-3678-4369-8bf4-796480c17e1b",
   "metadata": {},
   "outputs": [
    {
     "data": {
      "text/plain": [
       "'\\n$15.00\\n'"
      ]
     },
     "execution_count": 36,
     "metadata": {},
     "output_type": "execute_result"
    }
   ],
   "source": [
    "bs.find('img', {'src':'../img/gifts/img1.jpg'}).parent.previous_sibling.get_text()"
   ]
  },
  {
   "cell_type": "markdown",
   "id": "0d844f12-ad3a-4ef8-9980-f1d7615693be",
   "metadata": {},
   "source": [
    "#### Regular Expressions"
   ]
  },
  {
   "cell_type": "code",
   "execution_count": null,
   "id": "4e8a47f8-5561-4bd7-b8c8-a3af26698b45",
   "metadata": {},
   "outputs": [],
   "source": []
  }
 ],
 "metadata": {
  "kernelspec": {
   "display_name": "Python 3 (ipykernel)",
   "language": "python",
   "name": "python3"
  },
  "language_info": {
   "codemirror_mode": {
    "name": "ipython",
    "version": 3
   },
   "file_extension": ".py",
   "mimetype": "text/x-python",
   "name": "python",
   "nbconvert_exporter": "python",
   "pygments_lexer": "ipython3",
   "version": "3.9.12"
  }
 },
 "nbformat": 4,
 "nbformat_minor": 5
}
